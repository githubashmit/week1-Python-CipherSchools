{
  "nbformat": 4,
  "nbformat_minor": 0,
  "metadata": {
    "colab": {
      "provenance": [],
      "authorship_tag": "ABX9TyMy6kOSCV8RGIDkLOhm4nlq",
      "include_colab_link": true
    },
    "kernelspec": {
      "name": "python3",
      "display_name": "Python 3"
    },
    "language_info": {
      "name": "python"
    }
  },
  "cells": [
    {
      "cell_type": "markdown",
      "metadata": {
        "id": "view-in-github",
        "colab_type": "text"
      },
      "source": [
        "<a href=\"https://colab.research.google.com/github/githubashmit/week1-Python-CipherSchools/blob/main/Class8_Controlflowproblemsolving_CipherSchools.ipynb\" target=\"_parent\"><img src=\"https://colab.research.google.com/assets/colab-badge.svg\" alt=\"Open In Colab\"/></a>"
      ]
    },
    {
      "cell_type": "code",
      "execution_count": null,
      "metadata": {
        "id": "e878k-OVLtNL"
      },
      "outputs": [],
      "source": [
        "n = 5\n",
        "for i in range(n):\n",
        "    for j in range(n):\n",
        "        print(i, end = \" \")\n",
        "    print()"
      ]
    },
    {
      "cell_type": "code",
      "source": [
        "n = 5\n",
        "for i in range(n):\n",
        "  for j in range(n):\n",
        "    print(i, end = \" \")\n",
        "    print()"
      ],
      "metadata": {
        "id": "845b6NP7L3xM"
      },
      "execution_count": null,
      "outputs": []
    },
    {
      "cell_type": "code",
      "source": [
        "n = 5\n",
        "for i in range(n):\n",
        "    for j in range(n):\n",
        "        print(n-j, end = \" \")\n",
        "    print()"
      ],
      "metadata": {
        "id": "Rjmzay9CL55g"
      },
      "execution_count": null,
      "outputs": []
    },
    {
      "cell_type": "code",
      "source": [
        "n = 5\n",
        "for i in range(n):\n",
        "    for j in range(n):\n",
        "        print(n-j-1, end = \" \")\n",
        "    print()"
      ],
      "metadata": {
        "id": "xtEuZboaL8Uc"
      },
      "execution_count": null,
      "outputs": []
    },
    {
      "cell_type": "code",
      "source": [
        "n = 5\n",
        "for i in range(n):\n",
        "    for j in range(n):\n",
        "        print(j+1, end = \" \")\n",
        "    print()"
      ],
      "metadata": {
        "id": "XI1hmE3FL-Yd"
      },
      "execution_count": null,
      "outputs": []
    },
    {
      "cell_type": "code",
      "source": [
        "max(1, 2, 3, 4, 5, 7)"
      ],
      "metadata": {
        "id": "mvwbddW_MAqz"
      },
      "execution_count": null,
      "outputs": []
    },
    {
      "cell_type": "code",
      "source": [
        "n = 18\n",
        "for i in range(n):\n",
        "    for j in range(n):\n",
        "        print(max(i+1, j+1, n-i, n-j), end = \" \")\n",
        "    print()"
      ],
      "metadata": {
        "id": "Lknky9ScMCzI"
      },
      "execution_count": null,
      "outputs": []
    },
    {
      "cell_type": "code",
      "source": [
        "n = 5\n",
        "for i in range(n):\n",
        "    for j in range(n):\n",
        "      i, j\n",
        "      print((i,j), end = \" \")\n",
        "    print()"
      ],
      "metadata": {
        "colab": {
          "base_uri": "https://localhost:8080/"
        },
        "id": "3G8-aoYvMFFd",
        "outputId": "ff36ebaf-5a26-49cf-b1f1-1d08a8eeee8d"
      },
      "execution_count": 1,
      "outputs": [
        {
          "output_type": "stream",
          "name": "stdout",
          "text": [
            "(0, 0) (0, 1) (0, 2) (0, 3) (0, 4) \n",
            "(1, 0) (1, 1) (1, 2) (1, 3) (1, 4) \n",
            "(2, 0) (2, 1) (2, 2) (2, 3) (2, 4) \n",
            "(3, 0) (3, 1) (3, 2) (3, 3) (3, 4) \n",
            "(4, 0) (4, 1) (4, 2) (4, 3) (4, 4) \n"
          ]
        }
      ]
    },
    {
      "cell_type": "code",
      "source": [
        "for i in range(n):\n",
        "    for j in range(n):\n",
        "        print(i, end = \" \")\n",
        "    print()"
      ],
      "metadata": {
        "id": "JvZITpFdMOyY"
      },
      "execution_count": null,
      "outputs": []
    },
    {
      "cell_type": "code",
      "source": [
        "n = 5\n",
        "for i in range(n):\n",
        "    for j in range(n):\n",
        "        print(j, end = \" \")\n",
        "    print()"
      ],
      "metadata": {
        "id": "QtOfLuTCMRP_"
      },
      "execution_count": null,
      "outputs": []
    },
    {
      "cell_type": "code",
      "source": [
        "n = 5\n",
        "for i in range(n):\n",
        "    for j in range(n):\n",
        "        print(max(i,j), end = \" \")\n",
        "    print()"
      ],
      "metadata": {
        "id": "aBVPirP1MRwm"
      },
      "execution_count": null,
      "outputs": []
    },
    {
      "cell_type": "code",
      "source": [
        "n = 5\n",
        "for i in range(n):\n",
        "    for j in range(n):\n",
        "        print(n-i, end = \" \")\n",
        "    print()"
      ],
      "metadata": {
        "id": "L3EtwWEzMT81"
      },
      "execution_count": null,
      "outputs": []
    },
    {
      "cell_type": "code",
      "source": [
        "n = 5\n",
        "for i in range(n):\n",
        "    for j in range(n):\n",
        "        print(n-i-1, end = \" \")\n",
        "    print()"
      ],
      "metadata": {
        "id": "FL_7-4z7MWKi"
      },
      "execution_count": null,
      "outputs": []
    },
    {
      "cell_type": "code",
      "source": [
        "n = 5\n",
        "for i in range(n):\n",
        "    for j in range(n):\n",
        "        print(n-j-1, end = \" \")\n",
        "    print()"
      ],
      "metadata": {
        "id": "G9t4YDUcMYTi"
      },
      "execution_count": null,
      "outputs": []
    },
    {
      "cell_type": "code",
      "source": [
        "n = 5\n",
        "for i in range(n):\n",
        "    for j in range(n):\n",
        "        print(max(n-j-1, n-i-1), end = \" \")\n",
        "    print()"
      ],
      "metadata": {
        "id": "ITEICyVgMahf"
      },
      "execution_count": null,
      "outputs": []
    },
    {
      "cell_type": "code",
      "source": [
        "n = 5\n",
        "for i in range(n):\n",
        "    for j in range(n):\n",
        "        print(\n",
        "            max(max(i+1, j+1),max(n-j, n-i)\n",
        "        ), end = \" \")\n",
        "    print()"
      ],
      "metadata": {
        "id": "y_UuP_pdMdK_"
      },
      "execution_count": null,
      "outputs": []
    },
    {
      "cell_type": "code",
      "source": [
        "sum([1, 2, 3, 4, 5, 5, 6, 7, 8, 9])"
      ],
      "metadata": {
        "id": "3vdQiAUnMfY8"
      },
      "execution_count": null,
      "outputs": []
    }
  ]
}